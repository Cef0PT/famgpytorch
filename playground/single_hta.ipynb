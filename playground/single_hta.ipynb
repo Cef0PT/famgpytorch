{
 "cells": [
  {
   "cell_type": "code",
   "id": "initial_id",
   "metadata": {
    "collapsed": true
   },
   "source": [
    "from hta.trace_analysis import TraceAnalysis\n",
    "\n",
    "trace_dir = \"./temp/tensorboard/single\"\n",
    "analyzer = TraceAnalysis(\n",
    "    trace_dir=trace_dir,\n",
    "    trace_files={\n",
    "        0: \"ConventionalGPModel/workstation_az_15740.1740972966240462700.pt.trace.json\",\n",
    "        #1: \"ApproxGPModel15/workstation_az_15740.1740972970112980400.pt.trace.json\",\n",
    "        #2: \"ApproxGPModel5/workstation_az_15740.1740972975823674800.pt.trace.json\"\n",
    "    }\n",
    ")"
   ],
   "outputs": [],
   "execution_count": null
  },
  {
   "metadata": {},
   "cell_type": "code",
   "source": "time_spent_df = analyzer.get_temporal_breakdown()",
   "id": "ec2850b69437a7b2",
   "outputs": [],
   "execution_count": null
  },
  {
   "metadata": {},
   "cell_type": "code",
   "source": "kernel_type_metrics_df, kernel_metrics_df = analyzer.get_gpu_kernel_breakdown()",
   "id": "9d700704d7e0f5ca",
   "outputs": [],
   "execution_count": null
  },
  {
   "metadata": {},
   "cell_type": "code",
   "source": "kernel_metrics_df",
   "id": "632acb435907150",
   "outputs": [],
   "execution_count": null
  },
  {
   "metadata": {},
   "cell_type": "code",
   "source": "analyzer.generate_trace_with_counters()\n",
   "id": "ba5d3ff5fb12df05",
   "outputs": [],
   "execution_count": null
  }
 ],
 "metadata": {
  "kernelspec": {
   "display_name": "Python 3",
   "language": "python",
   "name": "python3"
  },
  "language_info": {
   "codemirror_mode": {
    "name": "ipython",
    "version": 2
   },
   "file_extension": ".py",
   "mimetype": "text/x-python",
   "name": "python",
   "nbconvert_exporter": "python",
   "pygments_lexer": "ipython2",
   "version": "2.7.6"
  }
 },
 "nbformat": 4,
 "nbformat_minor": 5
}
