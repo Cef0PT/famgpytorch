{
 "cells": [
  {
   "cell_type": "code",
   "id": "2adecfeb23302cf",
   "metadata": {
    "ExecuteTime": {
     "end_time": "2025-03-30T05:01:27.886350Z",
     "start_time": "2025-03-30T05:01:27.884079Z"
    }
   },
   "source": [
    "import math\n",
    "\n",
    "import torch\n",
    "from gpytorch.kernels import RBFKernel\n",
    "from linear_operator import to_linear_operator\n",
    "from linear_operator.operators import DiagLinearOperator\n",
    "\n",
    "from famgpytorch.kernels import RBFKernelApprox\n",
    "from famgpytorch.functions import ChebyshevHermitePolynomials"
   ],
   "outputs": [],
   "execution_count": 6
  },
  {
   "metadata": {},
   "cell_type": "markdown",
   "source": "## Different covariance matrices for the different definitions of the approximated RBF kernel",
   "id": "ee45549df1bb8e1d"
  },
  {
   "metadata": {
    "ExecuteTime": {
     "end_time": "2025-03-30T05:01:27.893153Z",
     "start_time": "2025-03-30T05:01:27.889337Z"
    }
   },
   "cell_type": "code",
   "source": [
    "def rbf_kernel_joukov_kulic(x1, x2, number_of_eigenvalues, lengthscale, alpha, chebyshev=True):\n",
    "    alpha = torch.tensor([[alpha]], dtype=x1.dtype)\n",
    "    lengthscale = torch.tensor([[lengthscale]], dtype=x1.dtype)\n",
    "\n",
    "    alpha_sq = alpha.pow(2)\n",
    "    eta_sq = lengthscale.pow(-2).div(2)\n",
    "    beta = eta_sq.mul(4).div(alpha_sq).add(1).pow(0.25)\n",
    "    delta_sq = alpha_sq.div(2).mul(beta.pow(2).sub(1))\n",
    "\n",
    "    # compute eigenvalues\n",
    "    denominator = alpha_sq.add(delta_sq).add(eta_sq)\n",
    "    eigenvalue_a = torch.sqrt(alpha_sq.div(denominator))\n",
    "    eigenvalue_b = eta_sq.div(denominator)\n",
    "    eigenvalues = torch.arange(1, number_of_eigenvalues + 1, dtype=x1.dtype, device=x1.device)\n",
    "    eigenvalues = DiagLinearOperator(eigenvalue_a.mul(eigenvalue_b.pow(eigenvalues))[0, :])\n",
    "\n",
    "    # define eigenfunctions\n",
    "    def _eigenfunctions(x, n):\n",
    "        # compute sqrt factor\n",
    "        range_ = torch.arange(1, n + 1, dtype=x.dtype, device=x.device)\n",
    "        sqrt = torch.sqrt(beta.mul(torch.exp(-torch.lgamma(range_ + 1))))\n",
    "\n",
    "        # compute exp factor\n",
    "        exp = torch.exp(-alpha_sq.mul(x.pow(2)))\n",
    "\n",
    "        # compute hermite polynomials\n",
    "        hermites = ChebyshevHermitePolynomials.apply(alpha.mul(beta).mul(math.sqrt(2) * x), n+1)[:, 1:]\n",
    "        if not chebyshev:\n",
    "            hermites = hermites.mul(torch.sqrt(2 ** range_))\n",
    "\n",
    "        eigenfunctions = sqrt.mul(exp).mul(hermites)\n",
    "\n",
    "        if torch.isnan(eigenfunctions).any() or torch.isinf(eigenfunctions).any():\n",
    "            raise ValueError(\"Interim results too high. Try to reduce the number of eigenvalues.\")\n",
    "\n",
    "        return eigenfunctions\n",
    "\n",
    "    eigenfunctions1 = to_linear_operator(_eigenfunctions(x1, number_of_eigenvalues))\n",
    "\n",
    "    if torch.equal(x1, x2):\n",
    "        eigenfunctions2 = eigenfunctions1\n",
    "    else:\n",
    "        eigenfunctions2 = to_linear_operator(_eigenfunctions(x2, number_of_eigenvalues))\n",
    "\n",
    "    return eigenfunctions1.matmul(eigenvalues).matmul(eigenfunctions2.mT)"
   ],
   "id": "4f370d584c7ff913",
   "outputs": [],
   "execution_count": 7
  },
  {
   "metadata": {
    "ExecuteTime": {
     "end_time": "2025-03-30T05:01:27.908306Z",
     "start_time": "2025-03-30T05:01:27.901850Z"
    }
   },
   "cell_type": "code",
   "source": [
    "data = torch.linspace(0, 1, 3).reshape(-1,1)\n",
    "l = 1\n",
    "a = 1\n",
    "\n",
    "print(\"---Conventional RBF Kernel---\")\n",
    "rbf_kernel_conv = RBFKernel()\n",
    "rbf_kernel_conv.lengthscale = l\n",
    "print(rbf_kernel_conv.forward(data, data).to_dense())\n",
    "\n",
    "print(\"\\n---Approx RBF Kernel Joukov, Kulic---\")\n",
    "print(rbf_kernel_joukov_kulic(data, data, number_of_eigenvalues=15, lengthscale=l, alpha=a, chebyshev=True).to_dense())\n",
    "\n",
    "print(\"\\n---Approx RBF Kernel Fasshauer---\")\n",
    "rbf_kernel_fasshauer = RBFKernelApprox(number_of_eigenvalues=15)\n",
    "rbf_kernel_fasshauer.lengthscale = l\n",
    "rbf_kernel_fasshauer.alpha = a\n",
    "print(rbf_kernel_fasshauer.forward(data, data).to_dense())"
   ],
   "id": "ea93deb8fd52280e",
   "outputs": [
    {
     "name": "stdout",
     "output_type": "stream",
     "text": [
      "---Conventional RBF Kernel---\n",
      "tensor([[1.0000, 0.8825, 0.6065],\n",
      "        [0.8825, 1.0000, 0.8825],\n",
      "        [0.6065, 0.8825, 1.0000]], grad_fn=<RBFCovarianceBackward>)\n",
      "\n",
      "---Approx RBF Kernel Joukov, Kulic---\n",
      "tensor([[ 0.0366,  0.0028, -0.0327],\n",
      "        [ 0.0028,  0.1440,  0.1235],\n",
      "        [-0.0327,  0.1235,  0.1510]])\n",
      "\n",
      "---Approx RBF Kernel Fasshauer---\n",
      "tensor([[1.0000, 0.8825, 0.6065],\n",
      "        [0.8825, 1.0000, 0.8825],\n",
      "        [0.6065, 0.8825, 1.0000]], grad_fn=<MmBackward0>)\n"
     ]
    }
   ],
   "execution_count": 8
  },
  {
   "metadata": {},
   "cell_type": "markdown",
   "source": "## Maximum eigenvalues / Numerical stability",
   "id": "66395bddfd4f4e7a"
  },
  {
   "metadata": {
    "ExecuteTime": {
     "end_time": "2025-03-30T05:01:27.916018Z",
     "start_time": "2025-03-30T05:01:27.911292Z"
    }
   },
   "cell_type": "code",
   "source": [
    "def approx_rbf_unoptimized(x1, x2, number_of_eigenvalues, lengthscale, alpha):\n",
    "    alpha = torch.tensor([[alpha]], dtype=x1.dtype)\n",
    "    lengthscale = torch.tensor([[lengthscale]], dtype=x1.dtype)\n",
    "\n",
    "    alpha_sq = alpha.pow(2)\n",
    "    eta_sq = lengthscale.pow(-2).div(2)\n",
    "    beta = eta_sq.mul(4).div(alpha_sq).add(1).pow(0.25)\n",
    "    delta_sq = alpha_sq.div(2).mul(beta.pow(2).sub(1))\n",
    "\n",
    "    # compute eigenvalues\n",
    "    denominator = alpha_sq.add(delta_sq).add(eta_sq)\n",
    "    eigenvalue_a = torch.sqrt(alpha_sq.div(denominator))\n",
    "    eigenvalue_b = eta_sq.div(denominator)\n",
    "    eigenvalues = torch.arange(number_of_eigenvalues, dtype=x1.dtype, device=x1.device)\n",
    "    eigenvalues = DiagLinearOperator(eigenvalue_a.mul(eigenvalue_b.pow(eigenvalues))[0, :])\n",
    "\n",
    "    # define eigenfunctions\n",
    "    def _eigenfunctions(x, n):\n",
    "        # compute sqrt factor\n",
    "        # computing the factorial of i would result in extremely large interim values, however, since we need to\n",
    "        # calculate the reciprocal of the factorial, we make use of the natural log of the gamma function where\n",
    "        # lgamma(i+1) = ln(i!) and e^(-ln(i!)) = 1 / i!\n",
    "        range_ = torch.arange(n, dtype=x.dtype, device=x.device)\n",
    "        sqrt = torch.sqrt(beta.div(2**range_ * torch.lgamma(range_ + 1).exp()))\n",
    "\n",
    "        # compute exp factor\n",
    "        exp = torch.exp(-delta_sq.mul(x.pow(2)))\n",
    "\n",
    "        # compute hermite polynomials\n",
    "        hermites = ChebyshevHermitePolynomials.apply(alpha.mul(beta).mul(math.sqrt(2) * x), n)\n",
    "        hermites = hermites.mul(torch.sqrt(2 ** range_))\n",
    "\n",
    "        eigenfunctions = sqrt.mul(exp).mul(hermites)\n",
    "\n",
    "        if torch.isnan(eigenfunctions).any() or torch.isinf(eigenfunctions).any():\n",
    "            raise ValueError(\"Interim results too high. Try to reduce the number of eigenvalues.\")\n",
    "\n",
    "        return eigenfunctions\n",
    "\n",
    "    eigenfunctions1 = to_linear_operator(_eigenfunctions(x1, number_of_eigenvalues))\n",
    "\n",
    "    if torch.equal(x1, x2):\n",
    "        eigenfunctions2 = eigenfunctions1\n",
    "    else:\n",
    "        eigenfunctions2 = to_linear_operator(_eigenfunctions(x2, number_of_eigenvalues))\n",
    "\n",
    "    return eigenfunctions1.matmul(eigenvalues).matmul(eigenfunctions2.mT)"
   ],
   "id": "163a285e8d5ae829",
   "outputs": [],
   "execution_count": 9
  },
  {
   "metadata": {
    "ExecuteTime": {
     "end_time": "2025-03-30T05:01:27.973421Z",
     "start_time": "2025-03-30T05:01:27.924426Z"
    }
   },
   "cell_type": "code",
   "source": [
    "data = torch.linspace(0, 1, 3).reshape(-1,1)\n",
    "l = 1\n",
    "a = 1\n",
    "\n",
    "print(\"\\n---Approx RBF Kernel Joukov, Kulic---\")\n",
    "n = 1\n",
    "while True:\n",
    "    try:\n",
    "        covar = approx_rbf_unoptimized(data, data, number_of_eigenvalues=n, lengthscale=l, alpha=a).to_dense()\n",
    "    except ValueError as e:\n",
    "        print(f\"Maximum number of eigenvalues reached for n = {n}\")\n",
    "        break\n",
    "    n += 1\n",
    "\n",
    "print(\"\\n---Approx RBF Kernel Fasshauer---\")\n",
    "while True:\n",
    "    rbf_kernel_fasshauer = RBFKernelApprox(number_of_eigenvalues=n)\n",
    "    rbf_kernel_fasshauer.lengthscale = l\n",
    "    rbf_kernel_fasshauer.alpha = a\n",
    "    try:\n",
    "        covar = rbf_kernel_fasshauer.forward(data, data).to_dense()\n",
    "    except ValueError as e:\n",
    "        print(f\"Maximum number of eigenvalues reached for n = {n}\")\n",
    "        break\n",
    "    n += 1"
   ],
   "id": "b29072217163e043",
   "outputs": [
    {
     "name": "stdout",
     "output_type": "stream",
     "text": [
      "\n",
      "---Approx RBF Kernel Joukov, Kulic---\n",
      "Maximum number of eigenvalues reached for n = 51\n",
      "\n",
      "---Approx RBF Kernel Fasshauer---\n",
      "Maximum number of eigenvalues reached for n = 59\n"
     ]
    }
   ],
   "execution_count": 10
  }
 ],
 "metadata": {
  "kernelspec": {
   "display_name": "Python 3",
   "language": "python",
   "name": "python3"
  },
  "language_info": {
   "codemirror_mode": {
    "name": "ipython",
    "version": 2
   },
   "file_extension": ".py",
   "mimetype": "text/x-python",
   "name": "python",
   "nbconvert_exporter": "python",
   "pygments_lexer": "ipython2",
   "version": "2.7.6"
  }
 },
 "nbformat": 4,
 "nbformat_minor": 5
}
