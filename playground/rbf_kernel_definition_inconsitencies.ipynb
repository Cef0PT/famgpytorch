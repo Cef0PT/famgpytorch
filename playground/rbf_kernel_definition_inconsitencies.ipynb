{
 "cells": [
  {
   "cell_type": "code",
   "id": "2adecfeb23302cf",
   "metadata": {
    "ExecuteTime": {
     "end_time": "2025-03-31T15:27:45.140935Z",
     "start_time": "2025-03-31T15:27:43.949777Z"
    }
   },
   "source": [
    "import math\n",
    "\n",
    "import torch\n",
    "from gpytorch.kernels import RBFKernel\n",
    "from linear_operator import to_linear_operator\n",
    "from linear_operator.operators import DiagLinearOperator\n",
    "\n",
    "from famgpytorch.kernels import RBFKernelApprox\n",
    "from famgpytorch.functions import ChebyshevHermitePolynomials"
   ],
   "outputs": [],
   "execution_count": 1
  },
  {
   "metadata": {},
   "cell_type": "markdown",
   "source": "## Different covariance matrices for the different definitions of the approximated RBF kernel",
   "id": "ee45549df1bb8e1d"
  },
  {
   "metadata": {
    "ExecuteTime": {
     "end_time": "2025-03-31T15:27:45.150952Z",
     "start_time": "2025-03-31T15:27:45.143957Z"
    }
   },
   "cell_type": "code",
   "source": [
    "def rbf_kernel_joukov_kulic(x1, x2, number_of_eigenvalues, lengthscale, alpha, chebyshev=True):\n",
    "    alpha = torch.tensor([[alpha]], dtype=x1.dtype)\n",
    "    lengthscale = torch.tensor([[lengthscale]], dtype=x1.dtype)\n",
    "\n",
    "    alpha_sq = alpha.pow(2)\n",
    "    eta_sq = lengthscale.pow(-2).div(2)\n",
    "    beta = eta_sq.mul(4).div(alpha_sq).add(1).pow(0.25)\n",
    "    delta_sq = alpha_sq.div(2).mul(beta.pow(2).sub(1))\n",
    "\n",
    "    # compute eigenvalues\n",
    "    denominator = alpha_sq.add(delta_sq).add(eta_sq)\n",
    "    eigenvalue_a = torch.sqrt(alpha_sq.div(denominator))\n",
    "    eigenvalue_b = eta_sq.div(denominator)\n",
    "    eigenvalues = torch.arange(1, number_of_eigenvalues + 1, dtype=x1.dtype, device=x1.device)\n",
    "    eigenvalues = DiagLinearOperator(eigenvalue_a.mul(eigenvalue_b.pow(eigenvalues))[0, :])\n",
    "\n",
    "    # define eigenfunctions\n",
    "    def _eigenfunctions(x, n):\n",
    "        # compute sqrt factor\n",
    "        range_ = torch.arange(1, n + 1, dtype=x.dtype, device=x.device)\n",
    "        sqrt = torch.sqrt(beta.mul(torch.exp(-torch.lgamma(range_ + 1))))\n",
    "\n",
    "        # compute exp factor\n",
    "        exp = torch.exp(-alpha_sq.mul(x.pow(2)))\n",
    "\n",
    "        # compute hermite polynomials\n",
    "        hermites = ChebyshevHermitePolynomials.apply(alpha.mul(beta).mul(math.sqrt(2) * x), n+1)[:, 1:]\n",
    "        if not chebyshev:\n",
    "            hermites = hermites.mul(torch.sqrt(2 ** range_))\n",
    "\n",
    "        eigenfunctions = sqrt.mul(exp).mul(hermites)\n",
    "\n",
    "        if torch.isnan(eigenfunctions).any() or torch.isinf(eigenfunctions).any():\n",
    "            raise ValueError(\"Interim results too high. Try to reduce the number of eigenvalues.\")\n",
    "\n",
    "        return eigenfunctions\n",
    "\n",
    "    eigenfunctions1 = to_linear_operator(_eigenfunctions(x1, number_of_eigenvalues))\n",
    "\n",
    "    if torch.equal(x1, x2):\n",
    "        eigenfunctions2 = eigenfunctions1\n",
    "    else:\n",
    "        eigenfunctions2 = to_linear_operator(_eigenfunctions(x2, number_of_eigenvalues))\n",
    "\n",
    "    return eigenfunctions1.matmul(eigenvalues).matmul(eigenfunctions2.mT)"
   ],
   "id": "4f370d584c7ff913",
   "outputs": [],
   "execution_count": 2
  },
  {
   "metadata": {
    "ExecuteTime": {
     "end_time": "2025-03-31T15:27:45.487709Z",
     "start_time": "2025-03-31T15:27:45.235075Z"
    }
   },
   "cell_type": "code",
   "source": [
    "data = torch.linspace(0, 1, 3).reshape(-1,1)\n",
    "l = 1\n",
    "a = 1\n",
    "\n",
    "print(\"---Conventional RBF Kernel---\")\n",
    "rbf_kernel_conv = RBFKernel()\n",
    "rbf_kernel_conv.lengthscale = l\n",
    "print(rbf_kernel_conv.forward(data, data).to_dense())\n",
    "\n",
    "print(\"\\n---Approx RBF Kernel Joukov, Kulic---\")\n",
    "print(rbf_kernel_joukov_kulic(data, data, number_of_eigenvalues=15, lengthscale=l, alpha=a, chebyshev=True).to_dense())\n",
    "\n",
    "print(\"\\n---Approx RBF Kernel Fasshauer---\")\n",
    "rbf_kernel_fasshauer = RBFKernelApprox(number_of_eigenvalues=15)\n",
    "rbf_kernel_fasshauer.lengthscale = l\n",
    "rbf_kernel_fasshauer.alpha = a\n",
    "print(rbf_kernel_fasshauer.forward(data, data).to_dense())"
   ],
   "id": "ea93deb8fd52280e",
   "outputs": [
    {
     "name": "stdout",
     "output_type": "stream",
     "text": [
      "---Conventional RBF Kernel---\n",
      "tensor([[1.0000, 0.8825, 0.6065],\n",
      "        [0.8825, 1.0000, 0.8825],\n",
      "        [0.6065, 0.8825, 1.0000]], grad_fn=<RBFCovarianceBackward>)\n",
      "\n",
      "---Approx RBF Kernel Joukov, Kulic---\n",
      "tensor([[ 0.0366,  0.0028, -0.0327],\n",
      "        [ 0.0028,  0.1440,  0.1235],\n",
      "        [-0.0327,  0.1235,  0.1510]])\n",
      "\n",
      "---Approx RBF Kernel Fasshauer---\n",
      "tensor([[1.0000, 0.8825, 0.6065],\n",
      "        [0.8825, 1.0000, 0.8825],\n",
      "        [0.6065, 0.8825, 1.0000]], grad_fn=<MmBackward0>)\n"
     ]
    }
   ],
   "execution_count": 3
  },
  {
   "metadata": {},
   "cell_type": "markdown",
   "source": "## Maximum eigenvalues / Numerical stability",
   "id": "66395bddfd4f4e7a"
  },
  {
   "metadata": {
    "ExecuteTime": {
     "end_time": "2025-03-31T15:27:45.497172Z",
     "start_time": "2025-03-31T15:27:45.492681Z"
    }
   },
   "cell_type": "code",
   "source": [
    "def approx_rbf_unoptimized(x1, x2, number_of_eigenvalues, lengthscale, alpha, dtype, chebyshev=True):\n",
    "    alpha = torch.tensor([[alpha]], dtype=x1.dtype)\n",
    "    lengthscale = torch.tensor([[lengthscale]], dtype=x1.dtype)\n",
    "\n",
    "    x1, x2 = x1.type(dtype),  x2.type(dtype)\n",
    "\n",
    "    alpha_sq = alpha.pow(2)\n",
    "    eta_sq = lengthscale.pow(-2).div(2)\n",
    "    beta = eta_sq.mul(4).div(alpha_sq).add(1).pow(0.25).type(dtype)\n",
    "    delta_sq = alpha_sq.div(2).mul(beta.pow(2).sub(1))\n",
    "\n",
    "    # compute eigenvalues\n",
    "    denominator = alpha_sq.add(delta_sq).add(eta_sq)\n",
    "    eigenvalue_a = torch.sqrt(alpha_sq.div(denominator))\n",
    "    eigenvalue_b = eta_sq.div(denominator)\n",
    "    eigenvalues = torch.arange(number_of_eigenvalues, dtype=x1.dtype, device=x1.device)\n",
    "    eigenvalues = DiagLinearOperator(eigenvalue_a.mul(eigenvalue_b.pow(eigenvalues))[0, :])\n",
    "\n",
    "    # define eigenfunctions\n",
    "    def _eigenfunctions(x, n):\n",
    "        # compute sqrt factor\n",
    "        # computing the factorial of i would result in extremely large interim values, however, since we need to\n",
    "        # calculate the reciprocal of the factorial, we make use of the natural log of the gamma function where\n",
    "        # lgamma(i+1) = ln(i!) and e^(-ln(i!)) = 1 / i!\n",
    "        range_ = torch.arange(n, dtype=x1.dtype, device=x.device)\n",
    "        if not chebyshev:\n",
    "            sqrt = torch.sqrt(beta.div(2**range_ * torch.lgamma(range_ + 1).exp()))\n",
    "        else:\n",
    "            sqrt = torch.sqrt(beta.div(torch.lgamma(range_ + 1).exp()))\n",
    "        if not sqrt.all():\n",
    "            raise ValueError(\"Interim results too high. Try to reduce the number of eigenvalues.\")\n",
    "\n",
    "        # compute exp factor\n",
    "        exp = torch.exp(-delta_sq.mul(x.pow(2)))\n",
    "\n",
    "        # compute hermite polynomials\n",
    "        hermites = ChebyshevHermitePolynomials.apply(alpha.mul(beta).mul(math.sqrt(2) * x), n)\n",
    "        if not chebyshev:\n",
    "            hermites = hermites.mul(torch.sqrt(2 ** range_))\n",
    "\n",
    "        eigenfunctions = sqrt.mul(exp).mul(hermites)\n",
    "\n",
    "        if torch.isnan(eigenfunctions).any() or torch.isinf(eigenfunctions).any():\n",
    "            raise ValueError(\"Interim results too high. Try to reduce the number of eigenvalues.\")\n",
    "\n",
    "        return eigenfunctions\n",
    "\n",
    "    eigenfunctions1 = to_linear_operator(_eigenfunctions(x1, number_of_eigenvalues))\n",
    "\n",
    "    if torch.equal(x1, x2):\n",
    "        eigenfunctions2 = eigenfunctions1\n",
    "    else:\n",
    "        eigenfunctions2 = to_linear_operator(_eigenfunctions(x2, number_of_eigenvalues))\n",
    "\n",
    "    return eigenfunctions1.matmul(eigenvalues).matmul(eigenfunctions2.mT).type(torch.float32)"
   ],
   "id": "163a285e8d5ae829",
   "outputs": [],
   "execution_count": 4
  },
  {
   "metadata": {
    "ExecuteTime": {
     "end_time": "2025-03-31T15:27:47.840214Z",
     "start_time": "2025-03-31T15:27:45.507613Z"
    }
   },
   "cell_type": "code",
   "source": [
    "data = torch.linspace(0, 1, 3).reshape(-1,1)\n",
    "print(data.size())\n",
    "l = 1\n",
    "a = 1\n",
    "\n",
    "print(\"\\n---Unoptimized Approx---\")\n",
    "n = 0\n",
    "while True:\n",
    "    n += 1\n",
    "    try:\n",
    "        covar = approx_rbf_unoptimized(data, data, number_of_eigenvalues=n, lengthscale=l, alpha=a, dtype=torch.float32).to_dense()\n",
    "    except ValueError as e:\n",
    "        print(f\"Maximum number of eigenvalues reached for n = {n - 1}\")\n",
    "        break\n",
    "\n",
    "print(\"\\n---Unoptimized Approx using double---\")\n",
    "n = 0\n",
    "while True:\n",
    "    n += 1\n",
    "    try:\n",
    "        covar = approx_rbf_unoptimized(data, data, number_of_eigenvalues=n, lengthscale=l, alpha=a, dtype=torch.float64, chebyshev=False).to_dense()\n",
    "    except ValueError as e:\n",
    "        print(f\"Maximum number of eigenvalues reached for n = {n - 1}\")\n",
    "        break\n",
    "\n",
    "print(\"\\n---Approx using double and Chebyshev---\")\n",
    "n = 0\n",
    "while True:\n",
    "    n += 1\n",
    "    try:\n",
    "        covar = approx_rbf_unoptimized(data, data, number_of_eigenvalues=n, lengthscale=l, alpha=a, dtype=torch.float64, chebyshev=True).to_dense()\n",
    "    except ValueError as e:\n",
    "        print(f\"Maximum number of eigenvalues reached for n = {n - 1}\")\n",
    "        break\n",
    "\n",
    "n = 0\n",
    "print(\"\\n---Optimized Approx---\")\n",
    "while True:\n",
    "    n += 1\n",
    "    rbf_kernel_fasshauer = RBFKernelApprox(number_of_eigenvalues=n)\n",
    "    rbf_kernel_fasshauer.lengthscale = l\n",
    "    rbf_kernel_fasshauer.alpha = a\n",
    "    try:\n",
    "        covar = rbf_kernel_fasshauer.forward(data, data).to_dense()\n",
    "    except ValueError as e:\n",
    "        print(f\"Maximum number of eigenvalues reached for n = {n - 1}\")\n",
    "        break\n",
    "\n",
    "n = 0\n",
    "print(\"\\n---Optimized Approx, small l=0.01---\")\n",
    "l = 0.01\n",
    "a = 1\n",
    "while True:\n",
    "    n += 1\n",
    "    rbf_kernel_fasshauer = RBFKernelApprox(number_of_eigenvalues=n)\n",
    "    rbf_kernel_fasshauer.lengthscale = l\n",
    "    rbf_kernel_fasshauer.alpha = a\n",
    "    try:\n",
    "        covar = rbf_kernel_fasshauer.forward(data, data).to_dense()\n",
    "    except ValueError as e:\n",
    "        print(f\"Maximum number of eigenvalues reached for n = {n - 1}\")\n",
    "        break"
   ],
   "id": "b29072217163e043",
   "outputs": [
    {
     "name": "stdout",
     "output_type": "stream",
     "text": [
      "torch.Size([3, 1])\n",
      "\n",
      "---Unoptimized Approx---\n",
      "Maximum number of eigenvalues reached for n = 35\n",
      "\n",
      "---Unoptimized Approx using double---\n",
      "Maximum number of eigenvalues reached for n = 151\n",
      "\n",
      "---Approx using double and Chebyshev---\n",
      "Maximum number of eigenvalues reached for n = 171\n",
      "\n",
      "---Optimized Approx---\n",
      "Maximum number of eigenvalues reached for n = 302\n",
      "\n",
      "---Optimized Approx, small l=0.01---\n",
      "Maximum number of eigenvalues reached for n = 277\n"
     ]
    }
   ],
   "execution_count": 5
  }
 ],
 "metadata": {
  "kernelspec": {
   "display_name": "Python 3",
   "language": "python",
   "name": "python3"
  },
  "language_info": {
   "codemirror_mode": {
    "name": "ipython",
    "version": 2
   },
   "file_extension": ".py",
   "mimetype": "text/x-python",
   "name": "python",
   "nbconvert_exporter": "python",
   "pygments_lexer": "ipython2",
   "version": "2.7.6"
  }
 },
 "nbformat": 4,
 "nbformat_minor": 5
}
