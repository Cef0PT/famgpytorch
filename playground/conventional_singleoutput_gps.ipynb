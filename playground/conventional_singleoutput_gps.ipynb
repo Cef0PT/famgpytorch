{
 "cells": [
  {
   "metadata": {},
   "cell_type": "markdown",
   "source": [
    "# Training a conventional Single-Output GP with GPytorch\n",
    "(based on https://github.com/cornellius-gp/gpytorch/blob/main/examples/01_Exact_GPs/Simple_GP_Regression.ipynb)"
   ],
   "id": "5ee3db0d0d5e55c6"
  },
  {
   "metadata": {
    "ExecuteTime": {
     "end_time": "2025-02-11T11:06:09.435287Z",
     "start_time": "2025-02-11T11:06:07.977321Z"
    }
   },
   "cell_type": "code",
   "source": [
    "import math\n",
    "\n",
    "import torch\n",
    "import gpytorch\n",
    "from matplotlib import pyplot as plt\n",
    "\n",
    "%matplotlib inline\n",
    "%load_ext autoreload\n",
    "%autoreload 2\n",
    "torch.manual_seed(42)\n",
    "None"
   ],
   "id": "374625387f378a3a",
   "outputs": [],
   "execution_count": 1
  },
  {
   "metadata": {},
   "cell_type": "markdown",
   "source": [
    "## Set up some training data\n",
    "\n",
    "$$\n",
    "\\begin{align}\n",
    "y &= \\sin(2\\pi x) + \\epsilon \\\\\n",
    "  \\epsilon &\\sim \\mathcal{N}(0, 0.04)\n",
    "\\end{align}\n",
    "$$\n",
    "With 100 training examples (regularly spaced points in [0,1]) and 51 test examples"
   ],
   "id": "e3be36fae476fdd7"
  },
  {
   "metadata": {
    "ExecuteTime": {
     "end_time": "2025-02-11T11:06:09.476769Z",
     "start_time": "2025-02-11T11:06:09.438288Z"
    }
   },
   "cell_type": "code",
   "source": [
    "# training data, 100 points in [0,1]\n",
    "train_x = torch.linspace(0, 1, 100)\n",
    "train_y = torch.sin(2 * math.pi * train_x) + torch.randn(train_x.size()) * math.sqrt(0.04)"
   ],
   "id": "370eae4905436054",
   "outputs": [],
   "execution_count": 2
  },
  {
   "metadata": {},
   "cell_type": "markdown",
   "source": [
    "## Setting up the model\n",
    "A **GP Model** `gpytorch.models.ExactGP` with:\n",
    "- **Likelihood** `gpytorch.likelihoods.GaussianLikelihood`\n",
    "- **Zero Mean** `gpytorch.means.ZeroMean` for simplicity\n",
    "- **RBF Kernel** `gpytorch.kernels.RBFKernel`\n",
    "\n",
    "forward method returns the vector $\\mu(x)$ and the $N \\times N$ matrix $K_{xx}$ (forward methods are called by `__call__` method of parent `gpytorch.Module`)\n",
    "- forward method of RBF Kernel calculates $k_{\\text{RBF}}(x_1, x_2) = \\exp \\left( -\\frac{1}{2}(\\mathbf{x_1} - \\mathbf{x_2})^\\top \\Theta^{-2} (\\mathbf{x_1} - \\mathbf{x_2}) \\right)$ with $\\Theta$ as the lengthscale parameter\n"
   ],
   "id": "4860095475eda900"
  },
  {
   "metadata": {
    "ExecuteTime": {
     "end_time": "2025-02-11T11:06:09.602985Z",
     "start_time": "2025-02-11T11:06:09.564301Z"
    }
   },
   "cell_type": "code",
   "source": [
    "class ConventionalGPModel(gpytorch.models.ExactGP):\n",
    "    def __init__(self, train_x, train_y, likelihood):\n",
    "        super(ConventionalGPModel, self).__init__(train_x, train_y, likelihood)\n",
    "        self.mean_module = gpytorch.means.ZeroMean()\n",
    "        self.covar_module = gpytorch.kernels.RBFKernel()\n",
    "\n",
    "    def forward(self, x):\n",
    "        r\"\"\"\n",
    "        Takes in some n x d data :math:`\\mathbf{x}` and returns a :obj:`~gpytorch.distributions.MultivariateNormal` with prior mean and covariance matrix of the GP\n",
    "        :param x:\n",
    "        :return:\n",
    "        \"\"\"\n",
    "        # calling the forward method of the respective module to get mean vector and covariance matrix\n",
    "        mean_x = self.mean_module(x)\n",
    "        covar_x = self.covar_module(x)\n",
    "        return gpytorch.distributions.MultivariateNormal(mean_x, covar_x)\n",
    "\n",
    "# init likelihood and model\n",
    "likelihood = gpytorch.likelihoods.GaussianLikelihood()\n",
    "model = ConventionalGPModel(train_x, train_y, likelihood)"
   ],
   "id": "d80e1f7949d8e2c6",
   "outputs": [],
   "execution_count": 3
  },
  {
   "metadata": {},
   "cell_type": "markdown",
   "source": [
    "## Training the model\n",
    "\n",
    "- Using Type-II MLE with custom training loop, as in standard PyTorch\n",
    "- All trainable parameters should be of type `torch.nn.Parameter`, since GP models extend `torch.nn.Module`\n",
    "\n",
    "Standard PyTorch training loop:\n",
    "1. Zero all parameter gradients\n",
    "2. Call the model and compute loss:\n",
    "    - `output = model(train_x)`: get multivariate normal with $\\mu_*$ and $\\Sigma_*$\n",
    "    - `loss = -mll(output, train_y)`: calculate negative log likelihood\n",
    "        - calls `log_prob` method with `value=train_y` of `output` (multivariate normal of model)\n",
    "        - inverse of and log of determinant calculated by `linear_operator.operator._linear_operator().inv_quad_logdet` based on covariance matrix of `output`\n",
    "3. Call backward on loss to fill in gradients\n",
    "    - tensors (`model.parameters()`) \"store\" gradients themselves (with `grad` and `requires_grad` attributes) after call to `loss.backward()` which computes all gradients for all tensors\n",
    "4. Take a step on the optimizer\n",
    "    - `optimizer.step()` iterates over all parameters and updates them internally, using the stored `grad` (i.e. using Adam algorithm)"
   ],
   "id": "8c6466355560036f"
  },
  {
   "metadata": {
    "ExecuteTime": {
     "end_time": "2025-02-11T11:06:10.452993Z",
     "start_time": "2025-02-11T11:06:09.608639Z"
    }
   },
   "cell_type": "code",
   "source": [
    "# set model in training mode\n",
    "model.train()\n",
    "likelihood.train()\n",
    "\n",
    "# use adam optimizer, including the GaussianLikelihood parameters\n",
    "optimizer = torch.optim.Adam(model.parameters(), lr=0.1)\n",
    "\n",
    "# \"Loss\" for GPs - marginal log likelihood\n",
    "mll = gpytorch.mlls.ExactMarginalLogLikelihood(likelihood, model)\n",
    "\n",
    "for i in range(50):\n",
    "    # zero gradients from previous iteration\n",
    "    optimizer.zero_grad()\n",
    "\n",
    "    # output from model -> multivariate normal with mean vector and covariance matrix\n",
    "    output = model(train_x)\n",
    "\n",
    "    # calc loss (negative marginal log likelihood) and backprop gradients\n",
    "    loss = -mll(output, train_y)\n",
    "    loss.backward()\n",
    "\n",
    "    if i == 0 or (i + 1) % 10 == 0:\n",
    "        print(\n",
    "            f'Iter {i + 1:02d}/50 - '\n",
    "            f'Loss: {loss.item():.3f}   '\n",
    "            f'lengthscale: {model.covar_module.lengthscale.item():.3f}   '\n",
    "            f'noise: {model.likelihood.noise.item():.3f}'\n",
    "        )\n",
    "\n",
    "    # step on optimizer\n",
    "    optimizer.step()"
   ],
   "id": "a0eed17312e99209",
   "outputs": [
    {
     "name": "stdout",
     "output_type": "stream",
     "text": [
      "Iter 01/50 - Loss: 0.936   lengthscale: 0.693   noise: 0.693\n",
      "Iter 10/50 - Loss: 0.550   lengthscale: 0.341   noise: 0.339\n",
      "Iter 20/50 - Loss: 0.189   lengthscale: 0.191   noise: 0.134\n",
      "Iter 30/50 - Loss: -0.057   lengthscale: 0.190   noise: 0.053\n",
      "Iter 40/50 - Loss: -0.080   lengthscale: 0.199   noise: 0.028\n",
      "Iter 50/50 - Loss: -0.081   lengthscale: 0.188   noise: 0.028\n"
     ]
    }
   ],
   "execution_count": 4
  },
  {
   "metadata": {},
   "cell_type": "markdown",
   "source": "## Make predictions with the model",
   "id": "43277807b94e9e5c"
  },
  {
   "metadata": {
    "ExecuteTime": {
     "end_time": "2025-02-11T11:06:10.582936Z",
     "start_time": "2025-02-11T11:06:10.459769Z"
    }
   },
   "cell_type": "code",
   "source": [
    "# set model to evaluation mode (predictive posterior)\n",
    "model.eval()\n",
    "likelihood.eval()\n",
    "\n",
    "# test points are regularly spaced along [0, 1]\n",
    "# make predictions by feeding model through likelihood\n",
    "with torch.no_grad():\n",
    "    test_x = torch.linspace(0, 1, 51)\n",
    "    observed_pred = likelihood(model(test_x))\n",
    "\n",
    "# plot model fit\n",
    "# initialize plot\n",
    "f, ax = plt.subplots(1, 1, figsize=(4, 3))\n",
    "# get upper and lower confidence bounds\n",
    "lower, upper = observed_pred.confidence_region()\n",
    "# plot training data as black stars\n",
    "ax.plot(train_x.numpy(), train_y.numpy(), 'k*')\n",
    "# plot predictive means as blue line\n",
    "ax.plot(test_x.numpy(), observed_pred.mean.numpy(), 'b')\n",
    "# shade between lower and upper confidence bounds\n",
    "ax.fill_between(test_x.numpy(), lower.numpy(), upper.numpy(), alpha=0.5)\n",
    "ax.set_ylim([-3, 3])\n",
    "\n",
    "ax.legend(['Observed Data', 'Mean', 'Confidence'])\n",
    "None"
   ],
   "id": "46cb16f8e0f764f0",
   "outputs": [
    {
     "data": {
      "text/plain": [
       "<Figure size 400x300 with 1 Axes>"
      ],
      "image/png": "[encoded data removed]"
     },
     "metadata": {},
     "output_type": "display_data"
    }
   ],
   "execution_count": 5
  },
  {
   "metadata": {},
   "cell_type": "markdown",
   "source": [
    "- User defined model returns `MultivariateNormal` with prior mean and covariance from forward\n",
    "- Trained model in eval mode returns `MultivariateNormal` with posterior mean and covariance\n",
    "\n",
    "A test point (`test_x`) denoted as `X*` with true output `Y*` and training data `X, Y`:\n",
    "- `model(test_x)` returns model posterior distribution `p(f* | X*, X, Y)`\n",
    "    - posterior is distribution over the function we are trying to model and thus quantifies model uncertainty\n",
    "- `likelihood(model(test_x))` gives us posterior predictive distribution `p(Y* | X*, X, Y)`\n",
    "    - probability distribution over predicted output value\n",
    "\n",
    "Getting mean, variance and covariance matrix and sampling functions from GP:"
   ],
   "id": "90d0b9a66d7857d8"
  },
  {
   "metadata": {
    "ExecuteTime": {
     "end_time": "2025-02-11T11:06:16.001973Z",
     "start_time": "2025-02-11T11:06:15.940026Z"
    }
   },
   "cell_type": "code",
   "source": [
    "f_preds = model(test_x)\n",
    "y_pred = likelihood(model(test_x))\n",
    "\n",
    "f_mean = f_preds.mean\n",
    "f_var = f_preds.variance\n",
    "f_covar = f_preds.covariance_matrix\n",
    "f_samples = f_preds.sample(sample_shape=torch.Size((1,)))\n",
    "print(f_samples[0,])"
   ],
   "id": "e21a2e6d1dbd2795",
   "outputs": [
    {
     "name": "stdout",
     "output_type": "stream",
     "text": [
      "Train:\n",
      "mean:\t\t tensor([0., 0., 0., 0., 0., 0., 0., 0., 0., 0., 0., 0., 0., 0., 0., 0., 0., 0., 0., 0., 0., 0., 0., 0.,\n",
      "        0., 0., 0., 0., 0., 0., 0., 0., 0., 0., 0., 0., 0., 0., 0., 0., 0., 0., 0., 0., 0., 0., 0., 0.,\n",
      "        0., 0., 0., 0., 0., 0., 0., 0., 0., 0., 0., 0., 0., 0., 0., 0., 0., 0., 0., 0., 0., 0., 0., 0.,\n",
      "        0., 0., 0., 0., 0., 0., 0., 0., 0., 0., 0., 0., 0., 0., 0., 0., 0., 0., 0., 0., 0., 0., 0., 0.,\n",
      "        0., 0., 0., 0.])\n",
      "var:\t\t tensor([1., 1., 1., 1., 1., 1., 1., 1., 1., 1., 1., 1., 1., 1., 1., 1., 1., 1.,\n",
      "        1., 1., 1., 1., 1., 1., 1., 1., 1., 1., 1., 1., 1., 1., 1., 1., 1., 1.,\n",
      "        1., 1., 1., 1., 1., 1., 1., 1., 1., 1., 1., 1., 1., 1., 1., 1., 1., 1.,\n",
      "        1., 1., 1., 1., 1., 1., 1., 1., 1., 1., 1., 1., 1., 1., 1., 1., 1., 1.,\n",
      "        1., 1., 1., 1., 1., 1., 1., 1., 1., 1., 1., 1., 1., 1., 1., 1., 1., 1.,\n",
      "        1., 1., 1., 1., 1., 1., 1., 1., 1., 1.])\n",
      "covar:\t\t tensor([[1.0000e+00, 9.9859e-01, 9.9435e-01,  ..., 1.6414e-06, 1.2454e-06,\n",
      "\t\t\t\t\t  9.4233e-07],\n",
      "\t\t\t\t\t [9.9859e-01, 1.0000e+00, 9.9859e-01,  ..., 2.1571e-06, 1.6414e-06,\n",
      "\t\t\t\t\t  1.2454e-06],\n",
      "\t\t\t\t\t [9.9435e-01, 9.9859e-01, 1.0000e+00,  ..., 2.8268e-06, 2.1571e-06,\n",
      "\t\t\t\t\t  1.6414e-06],\n",
      "\t\t\t\t\t ...,\n",
      "\t\t\t\t\t [1.6414e-06, 2.1571e-06, 2.8268e-06,  ..., 1.0000e+00, 9.9859e-01,\n",
      "\t\t\t\t\t  9.9435e-01],\n",
      "\t\t\t\t\t [1.2454e-06, 1.6414e-06, 2.1571e-06,  ..., 9.9859e-01, 1.0000e+00,\n",
      "\t\t\t\t\t  9.9859e-01],\n",
      "\t\t\t\t\t [9.4233e-07, 1.2454e-06, 1.6414e-06,  ..., 9.9435e-01, 9.9859e-01,\n",
      "\t\t\t\t\t  1.0000e+00]], grad_fn=<RBFCovarianceBackward>)\n",
      "samples:\t tensor([-0.6116, -0.6405, -0.6756, -0.6987, -0.7247, -0.7434, -0.7652, -0.7747,\n",
      "        -0.7899, -0.7904, -0.7951, -0.7936, -0.7919, -0.7820, -0.7830, -0.7710,\n",
      "        -0.7601, -0.7449, -0.7190, -0.7005, -0.6710, -0.6423, -0.6140, -0.5720,\n",
      "        -0.5409, -0.4877, -0.4337, -0.3776, -0.3175, -0.2495, -0.1743, -0.1060,\n",
      "        -0.0288,  0.0529,  0.1355,  0.2211,  0.3088,  0.3983,  0.4842,  0.5733,\n",
      "         0.6587,  0.7415,  0.8226,  0.9072,  0.9802,  1.0546,  1.1301,  1.1934,\n",
      "         1.2531,  1.3135,  1.3605,  1.4132,  1.4649,  1.4999,  1.5405,  1.5743,\n",
      "         1.6035,  1.6273,  1.6522,  1.6772,  1.6906,  1.7145,  1.7338,  1.7455,\n",
      "         1.7605,  1.7750,  1.7812,  1.7991,  1.8080,  1.8178,  1.8292,  1.8498,\n",
      "         1.8519,  1.8731,  1.8857,  1.9040,  1.9212,  1.9373,  1.9501,  1.9627,\n",
      "         1.9796,  1.9958,  2.0055,  2.0104,  2.0183,  2.0209,  2.0141,  2.0045,\n",
      "         1.9890,  1.9728,  1.9435,  1.9105,  1.8737,  1.8301,  1.7688,  1.7162,\n",
      "         1.6555,  1.5838,  1.5093,  1.4311])\n",
      "Test\n",
      "mean:\t\t tensor([ 0.1758,  0.1994,  0.2462,  0.3153,  0.4038,  0.5073,  0.6201,  0.7355,\n",
      "         0.8464,  0.9459,  1.0276,  1.0865,  1.1188,  1.1225,  1.0976,  1.0455,\n",
      "         0.9693,  0.8730,  0.7616,  0.6403,  0.5139,  0.3871,  0.2633,  0.1452,\n",
      "         0.0342, -0.0692, -0.1656, -0.2561, -0.3423, -0.4256, -0.5072, -0.5878,\n",
      "        -0.6673, -0.7444, -0.8172, -0.8831, -0.9387, -0.9806, -1.0054, -1.0103,\n",
      "        -0.9932, -0.9534, -0.8911, -0.8081, -0.7072, -0.5922, -0.4680, -0.3394,\n",
      "        -0.2117, -0.0897,  0.0225], grad_fn=<ViewBackward0>)\n",
      "var:\t\t tensor([0.0081, 0.0044, 0.0028, 0.0024, 0.0023, 0.0023, 0.0022, 0.0021, 0.0020,\n",
      "        0.0020, 0.0020, 0.0020, 0.0019, 0.0019, 0.0019, 0.0019, 0.0019, 0.0019,\n",
      "        0.0019, 0.0019, 0.0019, 0.0019, 0.0019, 0.0019, 0.0019, 0.0019, 0.0019,\n",
      "        0.0019, 0.0019, 0.0019, 0.0019, 0.0019, 0.0019, 0.0019, 0.0019, 0.0019,\n",
      "        0.0019, 0.0019, 0.0020, 0.0020, 0.0020, 0.0020, 0.0020, 0.0021, 0.0022,\n",
      "        0.0023, 0.0023, 0.0024, 0.0028, 0.0044, 0.0081],\n",
      "       grad_fn=<ExpandBackward0>)\n",
      "covar:\t\t tensor([[ 8.0907e-03,  5.6207e-03,  3.5084e-03,  ..., -1.8965e-06,\n",
      "\t\t\t\t\t  -1.7721e-05, -3.1972e-05],\n",
      "\t\t\t\t\t [ 5.6207e-03,  4.3824e-03,  3.2221e-03,  ...,  5.8442e-06,\n",
      "\t\t\t\t\t  -4.6944e-06, -1.7720e-05],\n",
      "\t\t\t\t\t [ 3.5088e-03,  3.2225e-03,  2.8294e-03,  ...,  9.1614e-06,\n",
      "\t\t\t\t\t   5.8450e-06, -1.8952e-06],\n",
      "\t\t\t\t\t ...,\n",
      "\t\t\t\t\t [-1.8971e-06,  5.8446e-06,  9.1614e-06,  ...,  2.8296e-03,\n",
      "\t\t\t\t\t   3.2220e-03,  3.5088e-03],\n",
      "\t\t\t\t\t [-1.7722e-05, -4.6946e-06,  5.8445e-06,  ...,  3.2219e-03,\n",
      "\t\t\t\t\t   4.3824e-03,  5.6202e-03],\n",
      "\t\t\t\t\t [-3.1973e-05, -1.7721e-05, -1.8964e-06,  ...,  3.5088e-03,\n",
      "\t\t\t\t\t   5.6202e-03,  8.0905e-03]], grad_fn=<AddmmBackward0>)\n",
      "samples:\t tensor([ 0.1958,  0.2284,  0.2690,  0.3290,  0.4101,  0.4990,  0.5975,  0.7032,\n",
      "         0.8026,  0.8952,  0.9705,  1.0313,  1.0669,  1.0822,  1.0629,  1.0194,\n",
      "         0.9479,  0.8562,  0.7547,  0.6317,  0.5145,  0.3927,  0.2717,  0.1620,\n",
      "         0.0539, -0.0396, -0.1389, -0.2250, -0.3189, -0.4067, -0.4905, -0.5767,\n",
      "        -0.6739, -0.7649, -0.8441, -0.9187, -0.9795, -1.0222, -1.0379, -1.0435,\n",
      "        -1.0241, -0.9755, -0.9104, -0.8219, -0.7239, -0.5915, -0.4497, -0.2854,\n",
      "        -0.1231,  0.0413,  0.2207])\n"
     ]
    }
   ],
   "execution_count": 7
  }
 ],
 "metadata": {
  "kernelspec": {
   "display_name": "Python 3",
   "language": "python",
   "name": "python3"
  },
  "language_info": {
   "codemirror_mode": {
    "name": "ipython",
    "version": 2
   },
   "file_extension": ".py",
   "mimetype": "text/x-python",
   "name": "python",
   "nbconvert_exporter": "python",
   "pygments_lexer": "ipython2",
   "version": "2.7.6"
  }
 },
 "nbformat": 4,
 "nbformat_minor": 5
}
